{
 "cells": [
  {
   "cell_type": "markdown",
   "metadata": {
    "button": false,
    "deletable": true,
    "new_sheet": false,
    "run_control": {
     "read_only": false
    }
   },
   "source": [
    "### Dish is Sean Connery schpeaking. You there. Come closher..."
   ]
  },
  {
   "cell_type": "markdown",
   "metadata": {
    "button": false,
    "deletable": true,
    "new_sheet": false,
    "run_control": {
     "read_only": false
    }
   },
   "source": [
    "<img src=\"https://media1.britannica.com/eb-media/50/66150-004-A27B7E90.jpg\" alt=\"Title\" style=\"width: 200px; height: 200px\"/>"
   ]
  },
  {
   "cell_type": "markdown",
   "metadata": {
    "button": false,
    "deletable": true,
    "new_sheet": false,
    "run_control": {
     "read_only": false
    }
   },
   "source": [
    "### I want to tell you a tale of a man. A hero. Dish is the story... of James Bond (aka Sean Connery)."
   ]
  },
  {
   "cell_type": "markdown",
   "metadata": {
    "button": false,
    "deletable": true,
    "new_sheet": false,
    "run_control": {
     "read_only": false
    }
   },
   "source": [
    "<img src=\"https://s-media-cache-ak0.pinimg.com/originals/6f/07/54/6f075401364552cfcb3caf46f9747614.jpg\" alt=\"Title\" style=\"width: 150px; height: 200px\"/>"
   ]
  },
  {
   "cell_type": "code",
   "execution_count": 3,
   "metadata": {
    "collapsed": true
   },
   "outputs": [],
   "source": [
    "from IPython.display import Image\n",
    "from IPython.core.display import HTML "
   ]
  },
  {
   "cell_type": "code",
   "execution_count": 1,
   "metadata": {
    "button": false,
    "collapsed": false,
    "deletable": true,
    "new_sheet": false,
    "run_control": {
     "read_only": false
    }
   },
   "outputs": [
    {
     "name": "stderr",
     "output_type": "stream",
     "text": [
      "/Users/dnay/anaconda/lib/python2.7/site-packages/bs4/__init__.py:181: UserWarning: No parser was explicitly specified, so I'm using the best available HTML parser for this system (\"lxml\"). This usually isn't a problem, but if you run this code on another system, or in a different virtual environment, it may use a different parser and behave differently.\n",
      "\n",
      "The code that caused this warning is on line 174 of the file /Users/dnay/anaconda/lib/python2.7/runpy.py. To get rid of this warning, change code that looks like this:\n",
      "\n",
      " BeautifulSoup([your markup])\n",
      "\n",
      "to this:\n",
      "\n",
      " BeautifulSoup([your markup], \"lxml\")\n",
      "\n",
      "  markup_type=markup_type))\n"
     ]
    },
    {
     "name": "stdout",
     "output_type": "stream",
     "text": [
      "['Dr. No', 'From Russia with Love', 'Goldfinger', 'Thunderball', 'Casino Royale[N]', 'You Only Live Twice', \"On Her Majesty's Secret Service\", 'Diamonds Are Forever', 'Live and Let Die', 'man with !The Man with the Golden Gun', 'spy who !The Spy Who Loved Me', 'Moonraker', 'For Your Eyes Only', 'Octopussy', 'Never Say Never Again[N]', 'view !A View to a Kill', 'living !The Living Daylights', 'Licence to Kill', 'GoldenEye', 'Tomorrow Never Dies', 'world !The World Is Not Enough', 'Die Another Day', 'Casino Royale', 'Quantum of Solace', 'Skyfall', 'Spectre']\n",
      "                        Bond Movies\n",
      "0                            Dr. No\n",
      "1             From Russia with Love\n",
      "2                        Goldfinger\n",
      "3                       Thunderball\n",
      "4                     Casino Royale\n",
      "5               You Only Live Twice\n",
      "6   On Her Majesty's Secret Service\n",
      "7              Diamonds Are Forever\n",
      "8                  Live and Let Die\n",
      "9       The Man with the Golden Gun\n",
      "10             The Spy Who Loved Me\n",
      "11                        Moonraker\n",
      "12               For Your Eyes Only\n",
      "13                        Octopussy\n",
      "14            Never Say Never Again\n",
      "15                 A View to a Kill\n",
      "16             The Living Daylights\n",
      "17                  Licence to Kill\n",
      "18                        GoldenEye\n",
      "19              Tomorrow Never Dies\n",
      "20          The World Is Not Enough\n",
      "21                  Die Another Day\n",
      "22                    Casino Royale\n",
      "23                Quantum of Solace\n",
      "24                          Skyfall\n",
      "25                          Spectre\n"
     ]
    }
   ],
   "source": [
    "### Print out hish movies below sonny boy. I don't have all day\n",
    "import urllib2\n",
    "from bs4 import BeautifulSoup\n",
    "import json\n",
    "import pandas as pd\n",
    "\n",
    "movies_ = []\n",
    "soup = BeautifulSoup(urllib2.urlopen('https://en.wikipedia.org/wiki/List_of_James_Bond_films').read())\n",
    "tables = soup.find_all('table')\n",
    "for idx, table in enumerate(tables):\n",
    "    if idx == 0:\n",
    "        for idx2, row in enumerate(table.find_all('tr')):\n",
    "            if idx2 > 1:\n",
    "                for idx3, column in enumerate(row.find_all('th')):\n",
    "                    movies_.append(str(column.text))\n",
    "print movies_\n",
    "movies = pd.DataFrame(movies_)\n",
    "for id1, i in enumerate(movies_):\n",
    "    for idx, x in enumerate(i):\n",
    "        if x == '!':\n",
    "            movies_[id1] = i[idx+1:]\n",
    "        elif x == '[':\n",
    "            movies_[id1] = i[:idx]\n",
    "movies = pd.DataFrame(movies_)\n",
    "movies.columns = ['Bond Movies']\n",
    "        \n",
    "\n",
    "print movies"
   ]
  },
  {
   "cell_type": "markdown",
   "metadata": {
    "button": false,
    "deletable": true,
    "new_sheet": false,
    "run_control": {
     "read_only": false
    }
   },
   "source": [
    "### That's right boy. Pull the movie's informashon from the webshite below. Just the plot, imdb shcore, poshter, and genre should do."
   ]
  },
  {
   "cell_type": "code",
   "execution_count": 3,
   "metadata": {
    "collapsed": false
   },
   "outputs": [
    {
     "name": "stdout",
     "output_type": "stream",
     "text": [
      "James Bond investigates the hijacking of British and Russian submarines carrying nuclear warheads with the help of a KGB agent whose lover he killed.\n",
      "7.1\n",
      "Action, Adventure, Thriller\n"
     ]
    },
    {
     "data": {
      "text/html": [
       "<img src=\"https://images-na.ssl-images-amazon.com/images/M/MV5BMjI1MTA5NDE1NF5BMl5BanBnXkFtZTcwMDIzMzY0NA@@._V1_SX300.jpg\" width=\"250\" height=\"250\"/>"
      ],
      "text/plain": [
       "<IPython.core.display.Image object>"
      ]
     },
     "execution_count": 3,
     "metadata": {},
     "output_type": "execute_result"
    }
   ],
   "source": [
    "from IPython.display import Image\n",
    "from IPython.core.display import HTML \n",
    "import json\n",
    "movies_for_func = [i.replace(' ', '+') for i in movies['Bond Movies']]\n",
    "def get_info_post(i):\n",
    "    bond_movie = i\n",
    "    soup = BeautifulSoup(urllib2.urlopen('http://www.omdbapi.com/?y=&plot=short&r=json&t='+bond_movie).read())\n",
    "    parsed_json = json.loads(soup.text)\n",
    "    print parsed_json['Plot']\n",
    "    print parsed_json['imdbRating']\n",
    "    print parsed_json['Genre']\n",
    "    return Image(url = parsed_json['Poster'], width=250, height=250)\n",
    "get_info_post(movies_for_func[10])"
   ]
  },
  {
   "cell_type": "markdown",
   "metadata": {
    "button": false,
    "deletable": true,
    "new_sheet": false,
    "run_control": {
     "read_only": false
    }
   },
   "source": [
    "### There were shome low times in the life of James Bond. \n",
    "#### *cough* \n",
    "#### Go on boy. Show the lowesht rated show's poster."
   ]
  },
  {
   "cell_type": "code",
   "execution_count": 4,
   "metadata": {
    "button": false,
    "collapsed": false,
    "deletable": true,
    "new_sheet": false,
    "run_control": {
     "read_only": false
    }
   },
   "outputs": [
    {
     "data": {
      "text/html": [
       "<img src=\"https://images-na.ssl-images-amazon.com/images/M/MV5BODNkYmIwYTMtYzdhNy00YWE3LThkYmEtNzA5ZTE5YmVjYzZlXkEyXkFqcGdeQXVyNTIzOTk5ODM@._V1_SX300.jpg\" width=\"250\" height=\"250\"/>"
      ],
      "text/plain": [
       "<IPython.core.display.Image object>"
      ]
     },
     "execution_count": 4,
     "metadata": {},
     "output_type": "execute_result"
    }
   ],
   "source": [
    "import operator\n",
    "\n",
    "dicty = {}\n",
    "def get_rating(i):\n",
    "    bond_movie = i\n",
    "    soup = BeautifulSoup(urllib2.urlopen('http://www.omdbapi.com/?y=&plot=short&r=json&t='+bond_movie).read())\n",
    "    parsed_json = json.loads(soup.text)\n",
    "    dicty[i] = float(parsed_json['imdbRating'])\n",
    "\n",
    "for i in range(0, 26):\n",
    "    get_rating(movies_for_func[i])\n",
    "\n",
    "#print sorted(dicty.items(), key=operator.itemgetter(1)), '\\n'\n",
    "#print sorted(dicty.items(), key=operator.itemgetter(1), reverse=True)\n",
    "\n",
    "from IPython.display import Image\n",
    "from IPython.core.display import HTML \n",
    "soup = BeautifulSoup(urllib2.urlopen('http://www.omdbapi.com/?y=&plot=short&r=json&t=Die+Another+Day').read())\n",
    "parsed_json = json.loads(soup.text)\n",
    "Image(url = parsed_json['Poster'], width=250, height=250)"
   ]
  },
  {
   "cell_type": "markdown",
   "metadata": {
    "button": false,
    "deletable": true,
    "new_sheet": false,
    "run_control": {
     "read_only": false
    }
   },
   "source": [
    "### But there were alsho high times! And glorious they were! Even though shome of them had Denise Richards. \n",
    "#### Show the highest rated show's poster. We don't have all day."
   ]
  },
  {
   "cell_type": "code",
   "execution_count": 5,
   "metadata": {
    "button": false,
    "collapsed": false,
    "deletable": true,
    "new_sheet": false,
    "run_control": {
     "read_only": false
    }
   },
   "outputs": [
    {
     "data": {
      "text/html": [
       "<img src=\"https://images-na.ssl-images-amazon.com/images/M/MV5BMTM5MjI4NDExNF5BMl5BanBnXkFtZTcwMDM1MjMzMQ@@._V1_SX300.jpg\" width=\"250\" height=\"250\"/>"
      ],
      "text/plain": [
       "<IPython.core.display.Image object>"
      ]
     },
     "execution_count": 5,
     "metadata": {},
     "output_type": "execute_result"
    }
   ],
   "source": [
    "soup = BeautifulSoup(urllib2.urlopen('http://www.omdbapi.com/?y=&plot=short&r=json&t=Casino+Royale').read())\n",
    "parsed_json = json.loads(soup.text)\n",
    "\n",
    "Image(url = parsed_json['Poster'], width=250, height=250)"
   ]
  },
  {
   "cell_type": "markdown",
   "metadata": {
    "button": false,
    "deletable": true,
    "new_sheet": false,
    "run_control": {
     "read_only": false
    }
   },
   "source": [
    "### Plot his ratings over time. Has he continued to improve? Is he more badass than ever before?\n",
    "#### Make a line plot with James Bonds' imdb ratings"
   ]
  },
  {
   "cell_type": "code",
   "execution_count": 6,
   "metadata": {
    "collapsed": false
   },
   "outputs": [
    {
     "data": {
      "text/plain": [
       "[<matplotlib.lines.Line2D at 0x11425b490>]"
      ]
     },
     "execution_count": 6,
     "metadata": {},
     "output_type": "execute_result"
    },
    {
     "data": {
      "image/png": "[encoded data removed]",
      "text/plain": [
       "<matplotlib.figure.Figure at 0x111d79bd0>"
      ]
     },
     "metadata": {},
     "output_type": "display_data"
    }
   ],
   "source": [
    "% matplotlib inline\n",
    "from matplotlib import pyplot as plt\n",
    "import seaborn as sns\n",
    "import numpy as np\n",
    "\n",
    "plt.plot(dicty.values(), color='b')"
   ]
  },
  {
   "cell_type": "markdown",
   "metadata": {
    "button": false,
    "deletable": true,
    "new_sheet": false,
    "run_control": {
     "read_only": false
    }
   },
   "source": [
    "#### Looks like he'sh making a comeback! And what a comeback it will be! For our last shcell we need to show the world that James Bond movies transhend all boundaries. Let'sh print a count of the genres for all of Mr. Bonds' movies."
   ]
  },
  {
   "cell_type": "code",
   "execution_count": 7,
   "metadata": {
    "button": false,
    "collapsed": false,
    "deletable": true,
    "new_sheet": false,
    "run_control": {
     "read_only": false
    }
   },
   "outputs": [
    {
     "name": "stdout",
     "output_type": "stream",
     "text": [
      "Action, Adventure, Thriller    24\n",
      "Action, Adventure               1\n",
      "Action, Adventure, Sci-Fi       1\n",
      "dtype: int64\n"
     ]
    }
   ],
   "source": [
    "listy = []\n",
    "def get_rating(i):\n",
    "    bond_movie = i\n",
    "    soup = BeautifulSoup(urllib2.urlopen('http://www.omdbapi.com/?y=&plot=short&r=json&t='+bond_movie).read())\n",
    "    parsed_json = json.loads(soup.text)\n",
    "    listy.append(parsed_json['Genre'])\n",
    "    return listy\n",
    "for i in range(26):\n",
    "    get_rating(movies_for_func[i])\n",
    "ser = pd.Series(listy)\n",
    "print ser.value_counts()"
   ]
  },
  {
   "cell_type": "markdown",
   "metadata": {
    "button": false,
    "deletable": true,
    "new_sheet": false,
    "run_control": {
     "read_only": false
    }
   },
   "source": [
    "<img src=\"https://media1.britannica.com/eb-media/50/66150-004-A27B7E90.jpg\" alt=\"Title\" style=\"width: 200px; height: 200px\"/>"
   ]
  },
  {
   "cell_type": "markdown",
   "metadata": {
    "button": false,
    "deletable": true,
    "new_sheet": false,
    "run_control": {
     "read_only": false
    }
   },
   "source": [
    "## And that's my shtory shonny boy. Like it or not, James Bond was a hell of a guy. This is Sean Connery signing out."
   ]
  }
 ],
 "metadata": {
  "anaconda-cloud": {},
  "kernelspec": {
   "display_name": "Python [default]",
   "language": "python",
   "name": "python2"
  },
  "language_info": {
   "codemirror_mode": {
    "name": "ipython",
    "version": 2
   },
   "file_extension": ".py",
   "mimetype": "text/x-python",
   "name": "python",
   "nbconvert_exporter": "python",
   "pygments_lexer": "ipython2",
   "version": "2.7.12"
  }
 },
 "nbformat": 4,
 "nbformat_minor": 0
}
